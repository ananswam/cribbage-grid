{
 "cells": [
  {
   "cell_type": "code",
   "execution_count": null,
   "metadata": {},
   "outputs": [],
   "source": [
    "from itertools import combinations\n",
    "from collections import defaultdict\n",
    "import numba\n",
    "import pandas as pd\n",
    "import json"
   ]
  },
  {
   "cell_type": "markdown",
   "metadata": {},
   "source": [
    "# Hand Ratings\n",
    "\n",
    "This notebook calculates and outputs a rating for each subset of cards in a cribbage hand (completely ignoring suit and flushes, which are going to be rare in a 5x5 grid game).\n",
    "\n",
    "We start by finding the number of occurrences of unique hand, where we change ranks to numbers 1 through 13, with 1 = Ace and 13 = King.\n"
   ]
  },
  {
   "cell_type": "code",
   "execution_count": null,
   "metadata": {},
   "outputs": [],
   "source": [
    "deck = []\n",
    "for i in range(1, 14):\n",
    "    deck.extend(4 * [i])\n",
    "\n",
    "\n",
    "\n",
    "hand_frequency = defaultdict(int)\n",
    "\n",
    "for hand in combinations(deck, 5):\n",
    "    hand = tuple(sorted(hand))\n",
    "    hand_frequency[hand] += 1"
   ]
  },
  {
   "cell_type": "markdown",
   "metadata": {},
   "source": [
    "# Finding Consistent Hands with a Subset of Cards\n",
    "\n",
    "We make a couple functions to find hands that are consistent with a given subset of cards. For example the hands consistent with (1,2,3,4) are 13 in number, (1,2,3,4) and any number between 1 and 13  as the 5th card."
   ]
  },
  {
   "cell_type": "code",
   "execution_count": null,
   "metadata": {},
   "outputs": [],
   "source": [
    "\n",
    "@numba.jit(nopython=True)\n",
    "def tuple_subset(x, y):\n",
    "    y = list(y)\n",
    "    for elem in x:\n",
    "        if elem in y:\n",
    "            y.remove(elem)\n",
    "        else:\n",
    "            return False\n",
    "    return True\n",
    "    "
   ]
  },
  {
   "cell_type": "code",
   "execution_count": null,
   "metadata": {},
   "outputs": [],
   "source": [
    "def get_consistent_hands(cards):\n",
    "    return filter(lambda key: tuple_subset(cards, key), hand_frequency.keys())\n",
    "\n",
    "a = get_consistent_hands((1,2,3,4))\n",
    "list(a)"
   ]
  },
  {
   "cell_type": "markdown",
   "metadata": {},
   "source": [
    "# Cribbage Scoring\n",
    "\n",
    "We create a function scoreHand() to calculate the score for a 5 card hand based on pairs, 15s, and runs. We ignore flushes here. We then score every unique hand."
   ]
  },
  {
   "cell_type": "code",
   "execution_count": null,
   "metadata": {},
   "outputs": [],
   "source": [
    "def scorePairs(hand):\n",
    "    if len(hand) < 2:\n",
    "        return 0\n",
    "    return sum(map(lambda x: 1 if x[0]==x[1] else 0, combinations(hand,2)))*2\n",
    "\n",
    "\n",
    "from itertools import chain, combinations\n",
    "\n",
    "def powerset2(iterable):\n",
    "    \"\"\"\n",
    "    all subsets with >= 2 elements\n",
    "    powerset2([1,2,3]) --> (1,2) (1,3) (2,3) (1,2,3)\n",
    "    \"\"\"\n",
    "    xs = list(iterable)\n",
    "    if len(xs) < 2:\n",
    "        return []\n",
    "    # note we return an iterator rather than a list\n",
    "    return chain.from_iterable(combinations(xs,n) for n in range(len(xs)+1))\n",
    "\n",
    "\n",
    "def score15(hand):\n",
    "    if len(hand) < 2:\n",
    "        return 0\n",
    "    hand = map(lambda x: min(10, x), hand)\n",
    "    return sum(map(lambda x: 2 if sum(x)==15 else 0, powerset2(hand)))\n",
    "\n",
    "\n",
    "def scoreRuns(hand):\n",
    "    numbers = list(sorted(hand))\n",
    "    numbers.append(1000)\n",
    "    \n",
    "    score = 0\n",
    "    duplicity = 1\n",
    "    multiple = 1\n",
    "    currentLength = 1\n",
    "    for i in range(1, len(numbers)):\n",
    "        current = numbers[i]\n",
    "        prev = numbers[i-1]\n",
    "        delta = current - prev\n",
    "        if delta == 0:\n",
    "            duplicity += 1\n",
    "        elif delta == 1:\n",
    "            multiple *= duplicity;\n",
    "            duplicity = 1;\n",
    "            currentLength += 1;\n",
    "        else:\n",
    "            if currentLength > 2:\n",
    "                score += (currentLength * multiple * duplicity)\n",
    "            currentLength = 1;\n",
    "            duplicity = 1;\n",
    "            multiple = 1;\n",
    "    return score\n",
    "\n",
    "\n",
    "def scoreHand(hand):\n",
    "    score = 0\n",
    "    score += score15(hand)\n",
    "    score += scorePairs(hand)\n",
    "    score += scoreRuns(hand)\n",
    "\n",
    "    return score\n",
    "\n",
    "\n",
    "hand_scores = {}\n",
    "for hand in hand_frequency.keys():\n",
    "    hand_scores[hand] = scoreHand(hand)"
   ]
  },
  {
   "cell_type": "markdown",
   "metadata": {},
   "source": [
    "# Getting Card Ratings\n",
    "\n",
    "For every subset of cards of size n (n=1,2,3,4), we calculate the conditional expected value of points for that subset assuming we fill out the rest of the hand with random cards. For example, if we have the 4 card subset (1,1,1,1), there are 12 unique consistent hands (1,1,1,1,2), (1,1,1,1,3), ....., (1,1,1,1,13), each with equal probability. The rating for (1,2,3,4) is then the average of the point values for each of these 12 hands."
   ]
  },
  {
   "cell_type": "code",
   "execution_count": null,
   "metadata": {},
   "outputs": [],
   "source": [
    "def get_n_card_ratings(n):\n",
    "    card_ratings = {}\n",
    "    for cards in combinations(deck, n):\n",
    "        cards = tuple(sorted(cards))\n",
    "        if cards in card_ratings:\n",
    "            continue\n",
    "        numerator = 0\n",
    "        denominator = 0\n",
    "        for hand, count in hand_frequency.items():\n",
    "            if tuple_subset(cards, hand):\n",
    "                numerator += (count * hand_scores[hand])\n",
    "                denominator += count\n",
    "        card_ratings[cards] = numerator/denominator\n",
    "    return card_ratings"
   ]
  },
  {
   "cell_type": "code",
   "execution_count": null,
   "metadata": {},
   "outputs": [],
   "source": [
    "def get_rating_frame(n):\n",
    "    combo, avg_scores = zip(*get_n_card_ratings(n).items())\n",
    "    return pd.DataFrame({\"cards\": combo, \"score\": avg_scores, \"num\": [n]*len(avg_scores)})\n",
    "\n",
    "df = pd.concat([get_rating_frame(i) for i in range(1, 5)])"
   ]
  },
  {
   "cell_type": "markdown",
   "metadata": {},
   "source": [
    "# Encode and Output for Use in JS\n",
    "We convert each hand to a handId by assuming that the rank entries encode a base 14 number. This will be sparse of course. We output a JSON file that maps each handId to its rating (this includes all 1, 2, 3, and 4 card subsets). We don't need to do 5 card subsets because they are complete hands with a fixed exact score. "
   ]
  },
  {
   "cell_type": "code",
   "execution_count": null,
   "metadata": {},
   "outputs": [],
   "source": [
    "def convert_tuple_to_number(tup):\n",
    "    ans = 0\n",
    "    for entry in tup:\n",
    "        ans *= 14\n",
    "        ans += entry\n",
    "    return ans\n",
    "df['handId'] = df.cards.apply(convert_tuple_to_number)"
   ]
  },
  {
   "cell_type": "code",
   "execution_count": null,
   "metadata": {},
   "outputs": [],
   "source": [
    "output_dict = dict(zip(df.handId, df.score))\n",
    "with open('public/ratings.json', 'w') as f:\n",
    "    json.dump(output_dict, f)"
   ]
  },
  {
   "cell_type": "code",
   "execution_count": null,
   "metadata": {},
   "outputs": [],
   "source": []
  }
 ],
 "metadata": {
  "kernelspec": {
   "display_name": "Python 3",
   "language": "python",
   "name": "python3"
  },
  "language_info": {
   "codemirror_mode": {
    "name": "ipython",
    "version": 3
   },
   "file_extension": ".py",
   "mimetype": "text/x-python",
   "name": "python",
   "nbconvert_exporter": "python",
   "pygments_lexer": "ipython3",
   "version": "3.8.3"
  }
 },
 "nbformat": 4,
 "nbformat_minor": 4
}
